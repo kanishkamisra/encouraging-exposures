{
 "cells": [
  {
   "cell_type": "code",
   "execution_count": 1,
   "metadata": {},
   "outputs": [],
   "source": [
    "import utils\n",
    "import pathlib\n",
    "import json\n",
    "import copy\n",
    "from collections import defaultdict"
   ]
  },
  {
   "cell_type": "code",
   "execution_count": 2,
   "metadata": {},
   "outputs": [],
   "source": [
    "lego_ids = [\"100_4\", \"101_5\", \"102_2\", \"102_3\", \"103_4\", \"213_4\"]"
   ]
  },
  {
   "cell_type": "code",
   "execution_count": 3,
   "metadata": {},
   "outputs": [],
   "source": [
    "def modify(adapt_data):\n",
    "    new_data = []\n",
    "    adapt_data_copy = copy.deepcopy(adapt_data)\n",
    "    for entry in adapt_data_copy:\n",
    "        unique_id = f\"{entry['hypothesis_id']}_{entry['hypothesis_instance']}\"\n",
    "        if unique_id in lego_ids:\n",
    "            entry['sentence'] = entry['sentence'].replace(\"a lego\", \"the lego\")\n",
    "            # print(entry)\n",
    "            new_data.append(entry)\n",
    "    return new_data"
   ]
  },
  {
   "cell_type": "code",
   "execution_count": 4,
   "metadata": {},
   "outputs": [],
   "source": [
    "# test = modify(utils.read_jsonl())\n",
    "dir_template = \"../data/experiments/single_stimuli_dative_simulation_valtest_vbd_discourse_{}_given_template_{}\"\n",
    "\n",
    "arguments = [\"theme\", \"recipient\"]\n",
    "templates = [1, 2, 3]"
   ]
  },
  {
   "cell_type": "code",
   "execution_count": 6,
   "metadata": {},
   "outputs": [],
   "source": [
    "for arg in arguments:\n",
    "    for template in templates:\n",
    "        file_path = dir_template.format(arg, template)\n",
    "        new_path = file_path.replace(f\"template_{template}\", f\"legofix_template_{template}\")\n",
    "        pathlib.Path(new_path).mkdir(parents=True, exist_ok=True)\n",
    "        adapt_data = utils.read_jsonl(file_path + \"/adaptation.jsonl\")\n",
    "        new_data = modify(adapt_data)\n",
    "        utils.write_jsonl(new_data, new_path + \"/adaptation.jsonl\")\n",
    "        generalization = utils.read_jsonl(file_path + \"/generalization.jsonl\")\n",
    "        utils.write_jsonl(new_data, new_path + \"/generalization.jsonl\")"
   ]
  },
  {
   "cell_type": "code",
   "execution_count": null,
   "metadata": {},
   "outputs": [],
   "source": []
  }
 ],
 "metadata": {
  "kernelspec": {
   "display_name": "kmisra",
   "language": "python",
   "name": "python3"
  },
  "language_info": {
   "codemirror_mode": {
    "name": "ipython",
    "version": 3
   },
   "file_extension": ".py",
   "mimetype": "text/x-python",
   "name": "python",
   "nbconvert_exporter": "python",
   "pygments_lexer": "ipython3",
   "version": "3.11.4"
  }
 },
 "nbformat": 4,
 "nbformat_minor": 2
}
