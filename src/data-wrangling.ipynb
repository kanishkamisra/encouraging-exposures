{
 "cells": [
  {
   "cell_type": "code",
   "execution_count": 1,
   "metadata": {},
   "outputs": [],
   "source": [
    "import json\n",
    "import pathlib\n",
    "from collections import defaultdict"
   ]
  },
  {
   "cell_type": "code",
   "execution_count": 2,
   "metadata": {},
   "outputs": [],
   "source": [
    "# read experiments/adaptation.jsonl and generalization.jsonl\n",
    "with open('../data/experiments/adaptation.jsonl') as f:\n",
    "    adaptation = [json.loads(line) for line in f]\n",
    "\n",
    "with open('../data/experiments/generalization.jsonl') as f:\n",
    "    generalization = [json.loads(line) for line in f]"
   ]
  },
  {
   "cell_type": "code",
   "execution_count": 3,
   "metadata": {},
   "outputs": [],
   "source": [
    "def generate_acronym(entry):\n",
    "    acronym = \"\"\n",
    "    args = ['theme', 'recipient']\n",
    "    keys = ['pronominality', 'animacy', 'length']\n",
    "    for arg in args:\n",
    "        for k in keys:\n",
    "            acronym += entry[f\"{arg}_{k}\"][0]\n",
    "\n",
    "    return acronym"
   ]
  },
  {
   "cell_type": "code",
   "execution_count": 4,
   "metadata": {},
   "outputs": [],
   "source": [
    "# adaptation_sentences = {\n",
    "#     'do': defaultdict(list),\n",
    "#     'pp': defaultdict(list)\n",
    "# }\n",
    "# adaptation_sentences=defaultdict(lambda: defaultdict(list))\n",
    "\n",
    "# for entry in adaptation:\n",
    "#     acronym = generate_acronym(entry)\n",
    "#     # adaptation_sentences['do'][acronym].append(entry['do'])\n",
    "#     # adaptation_sentences['pp'][acronym].append(entry['pp'])\n",
    "#     adaptation_sentences[acronym]['do'].append(entry['do'])\n",
    "#     adaptation_sentences[acronym]['pp'].append(entry['pp'])\n",
    "\n",
    "# adaptation_sentences = dict(adaptation_sentences)\n",
    "# for acronym in adaptation_sentences:\n",
    "#     adaptation_sentences[acronym] = dict(adaptation_sentences[acronym])\n",
    "\n",
    "# make the above code into a function\n",
    "def reorganize_sentences(experiment):\n",
    "    sentences = defaultdict(lambda: defaultdict(list))\n",
    "    for entry in experiment:\n",
    "        acronym = generate_acronym(entry)\n",
    "        sentences[acronym]['do'].append(entry['do'])\n",
    "        sentences[acronym]['pp'].append(entry['pp'])\n",
    "\n",
    "    sentences = dict(sentences)\n",
    "    for acronym in sentences:\n",
    "        sentences[acronym] = dict(sentences[acronym])\n",
    "\n",
    "    return sentences"
   ]
  },
  {
   "cell_type": "code",
   "execution_count": 5,
   "metadata": {},
   "outputs": [],
   "source": [
    "adaptation_sentences = reorganize_sentences(adaptation)\n",
    "generalization_sentences = reorganize_sentences(generalization)"
   ]
  },
  {
   "cell_type": "code",
   "execution_count": 6,
   "metadata": {},
   "outputs": [],
   "source": [
    "# write both to \n",
    "pathlib.Path(\"../data/experiments/sentences\").mkdir(parents=True, exist_ok=True)\n",
    "with open('../data/experiments/sentences/adaptation.json', 'w') as f:\n",
    "    json.dump(adaptation_sentences, f)\n",
    "\n",
    "with open('../data/experiments/sentences/generalization.json', 'w') as f:\n",
    "    json.dump(generalization_sentences, f)"
   ]
  },
  {
   "cell_type": "code",
   "execution_count": null,
   "metadata": {},
   "outputs": [],
   "source": []
  },
  {
   "cell_type": "code",
   "execution_count": null,
   "metadata": {},
   "outputs": [],
   "source": []
  }
 ],
 "metadata": {
  "kernelspec": {
   "display_name": "base",
   "language": "python",
   "name": "python3"
  },
  "language_info": {
   "codemirror_mode": {
    "name": "ipython",
    "version": 3
   },
   "file_extension": ".py",
   "mimetype": "text/x-python",
   "name": "python",
   "nbconvert_exporter": "python",
   "pygments_lexer": "ipython3",
   "version": "3.10.10"
  }
 },
 "nbformat": 4,
 "nbformat_minor": 2
}
