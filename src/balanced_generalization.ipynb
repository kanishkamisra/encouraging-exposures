{
 "cells": [
  {
   "cell_type": "code",
   "execution_count": 1,
   "metadata": {},
   "outputs": [
    {
     "name": "stderr",
     "output_type": "stream",
     "text": [
      "/home/km55359/.conda/envs/kmisra/lib/python3.11/site-packages/transformers/utils/hub.py:124: FutureWarning: Using `TRANSFORMERS_CACHE` is deprecated and will be removed in v5 of Transformers. Use `HF_HOME` instead.\n",
      "  warnings.warn(\n"
     ]
    }
   ],
   "source": [
    "import config\n",
    "import utils\n",
    "import csv\n",
    "# import random\n",
    "\n",
    "from collections import defaultdict\n",
    "\n",
    "import torch\n",
    "\n",
    "from experiment import Learner"
   ]
  },
  {
   "cell_type": "code",
   "execution_count": 2,
   "metadata": {},
   "outputs": [],
   "source": [
    "implausibles = set(config.IMPLAUSIBLE['do'] + config.IMPLAUSIBLE['pp'])"
   ]
  },
  {
   "cell_type": "code",
   "execution_count": 5,
   "metadata": {},
   "outputs": [],
   "source": [
    "# generalization = utils.read_json(\"../data/experiments/single_stimuli_dative_simulation/sentences/generalization.json\")\n",
    "generalization = utils.read_json(\"../data/experiments/single_stimuli_dative_simulation_valtest_vbd_no_markedness_no_discourse_bal_gen/sentences/adaptation.json\")"
   ]
  },
  {
   "cell_type": "code",
   "execution_count": 6,
   "metadata": {},
   "outputs": [],
   "source": [
    "# balanced_genset = []\n",
    "# for key, datives in generalization.items():\n",
    "#     if \"do\" in datives and \"pp\" in datives:\n",
    "#         for do_sent, pp_sent in zip(datives[\"do\"], datives[\"pp\"]):\n",
    "#             balanced_genset.append({\"key\": key, \"do\": do_sent, \"pp\": pp_sent})\n",
    "\n",
    "# random.seed(42)\n",
    "\n",
    "balanced_genset = []\n",
    "for key, datives, in generalization.items():\n",
    "    # pasdpasi\n",
    "    # skip 3rd and 7th positions in the key string\n",
    "    condensed_key = key[:3] + key[4:7] + key[8:]\n",
    "    if condensed_key not in implausibles:\n",
    "        # randomly sample 5 do and 5 pp sentences\n",
    "        for do_sent, pp_sent in zip(datives[\"do\"], datives[\"pp\"]):\n",
    "            balanced_genset.append({\"key\": key, \"do\": do_sent, \"pp\": pp_sent})\n",
    "    "
   ]
  },
  {
   "cell_type": "code",
   "execution_count": 7,
   "metadata": {},
   "outputs": [
    {
     "data": {
      "text/plain": [
       "640"
      ]
     },
     "execution_count": 7,
     "metadata": {},
     "output_type": "execute_result"
    }
   ],
   "source": [
    "# balanced_genset\n",
    "len(balanced_genset)\n",
    "# balanced_genset"
   ]
  },
  {
   "cell_type": "code",
   "execution_count": 8,
   "metadata": {},
   "outputs": [],
   "source": [
    "# with open(\"../data/balanced_generalization_set_three_features.csv\", \"w\") as f:\n",
    "#     writer = csv.writer(f)\n",
    "#     writer.writerow([\"key\", \"dative\", \"sentence\"])\n",
    "#     for row in balanced_genset:\n",
    "#         writer.writerow((row['key'], \"do\", row['do']))\n",
    "#         writer.writerow((row['key'], \"pp\", row['pp']))\n",
    "\n",
    "with open(\"../data/balanced_generalization_set_four_features.csv\", \"w\") as f:\n",
    "    writer = csv.writer(f)\n",
    "    writer.writerow([\"key\", \"dative\", \"sentence\"])\n",
    "    for row in balanced_genset:\n",
    "        writer.writerow((row['key'], \"do\", row['do']))\n",
    "        writer.writerow((row['key'], \"pp\", row['pp']))"
   ]
  },
  {
   "cell_type": "code",
   "execution_count": 2,
   "metadata": {},
   "outputs": [],
   "source": [
    "target = torch.load(\"../data/results/single_stimuli_dative_simulation_valtest_vbd_discourse_theme_given_template_1/smolm-autoreg-bpe-seed_6/raw/1_1_1_0.1_do_results/verb_embedding.pt\").to(\"cpu\")\n",
    "\n",
    "\n",
    "\n",
    "# /home/km55359/encouraging-exposures/data/results/single_stimuli_dative_simulation_valtest_vbd_discourse_theme_given_template_1/smolm-autoreg-bpe-seed_6/raw/1_1_1_0.1_do_results/verb_embedding.pt"
   ]
  },
  {
   "cell_type": "code",
   "execution_count": 7,
   "metadata": {},
   "outputs": [],
   "source": [
    "lm = Learner(\"kanishka/smolm-autoreg-bpe-seed_6\")\n",
    "lm.add_tokens()\n",
    "lm.freeze_full()"
   ]
  },
  {
   "cell_type": "code",
   "execution_count": 10,
   "metadata": {},
   "outputs": [
    {
     "data": {
      "text/plain": [
       "[[('<s>', 0.0),\n",
       "  ('she', -4.904932975769043),\n",
       "  ('[verb]', -13.991379737854004),\n",
       "  ('the', -7.50151252746582),\n",
       "  ('ball', -5.1817498207092285),\n",
       "  ('to', -2.408505439758301),\n",
       "  ('me', -1.0440807342529297),\n",
       "  ('.', -0.6565561294555664)]]"
      ]
     },
     "execution_count": 10,
     "metadata": {},
     "output_type": "execute_result"
    }
   ],
   "source": [
    "lm.token_score(\"she [verb] the ball to me .\")"
   ]
  },
  {
   "cell_type": "code",
   "execution_count": 6,
   "metadata": {},
   "outputs": [
    {
     "data": {
      "text/plain": [
       "[[('<s>', 0.0),\n",
       "  ('she', -4.904930114746094),\n",
       "  ('[verb]', -6.0155487060546875),\n",
       "  ('the', -6.001806259155273),\n",
       "  ('ball', -7.697290420532227),\n",
       "  ('to', -3.8050122261047363),\n",
       "  ('me', -1.605154037475586),\n",
       "  ('.', -0.5210390090942383)]]"
      ]
     },
     "execution_count": 6,
     "metadata": {},
     "output_type": "execute_result"
    }
   ],
   "source": [
    "lm.lm.model.resize_token_embeddings().weight[lm.new_index] = target\n",
    "\n",
    "lm.token_score(\"she [verb] the ball to me .\")"
   ]
  },
  {
   "cell_type": "code",
   "execution_count": null,
   "metadata": {},
   "outputs": [],
   "source": []
  }
 ],
 "metadata": {
  "kernelspec": {
   "display_name": "spacy",
   "language": "python",
   "name": "python3"
  },
  "language_info": {
   "codemirror_mode": {
    "name": "ipython",
    "version": 3
   },
   "file_extension": ".py",
   "mimetype": "text/x-python",
   "name": "python",
   "nbconvert_exporter": "python",
   "pygments_lexer": "ipython3",
   "version": "3.11.4"
  }
 },
 "nbformat": 4,
 "nbformat_minor": 2
}
