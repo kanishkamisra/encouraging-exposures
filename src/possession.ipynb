{
 "cells": [
  {
   "cell_type": "code",
   "execution_count": 1,
   "metadata": {},
   "outputs": [],
   "source": [
    "import argparse\n",
    "import config\n",
    "# import inflect\n",
    "import json\n",
    "import math\n",
    "# import os\n",
    "import random\n",
    "import utils\n",
    "import pathlib\n",
    "\n",
    "from collections import defaultdict\n",
    "from string import Template\n",
    "from dataclasses import dataclass\n",
    "from itertools import product\n",
    "from ordered_set import OrderedSet\n",
    "from tqdm import trange, tqdm"
   ]
  },
  {
   "cell_type": "code",
   "execution_count": 2,
   "metadata": {},
   "outputs": [],
   "source": [
    "def write_jsonl(data, path):\n",
    "    with open(path, \"w\") as f:\n",
    "        for d in data:\n",
    "            f.write(json.dumps(d) + \"\\n\")"
   ]
  },
  {
   "cell_type": "code",
   "execution_count": 3,
   "metadata": {},
   "outputs": [],
   "source": [
    "@dataclass\n",
    "class Dative:\n",
    "    dative: str\n",
    "    verb: str\n",
    "    agent: str\n",
    "    theme: str\n",
    "    recipient: str\n",
    "\n",
    "    def generate(self, marked_theme=False, marked_recipient=False):\n",
    "        if self.dative == \"do\":\n",
    "            template = Template(\"$agent $verb $recipient $theme .\")\n",
    "        elif self.dative == \"pp\":\n",
    "            template = Template(\"$agent $verb $theme to $recipient .\")\n",
    "\n",
    "        if marked_theme:\n",
    "            self.theme = f\"the {self.theme}\"\n",
    "\n",
    "        if marked_recipient:\n",
    "            self.recipient = f\"the {self.recipient}\"\n",
    "\n",
    "        self.sentence = template.substitute(\n",
    "            agent=self.agent, verb=self.verb, theme=self.theme, recipient=self.recipient\n",
    "        )\n",
    "        return self.sentence\n",
    "\n",
    "    def givenness(self, discourse_sentence=None):\n",
    "        return NotImplementedError"
   ]
  },
  {
   "cell_type": "code",
   "execution_count": 4,
   "metadata": {},
   "outputs": [],
   "source": [
    "LEXICON = {\n",
    "    \"animate\": [\"them\", \"the cat\", \"the dog\", \"the bear\", \"me\", \"us\", \"him\", \"her\", \"mommy\", \"daddy\", \"grandpa\", \"grandma\"],\n",
    "    \"inanimate\": [\"it\", \"the ball\", \"the cup\", \"the book\"],\n",
    "    \"pronoun\": [\"it\", \"them\", \"me\", \"us\", \"him\", \"her\"],\n",
    "    \"nominal\": [\"the cat\", \"the dog\", \"the bear\", \"the ball\", \"the cup\", \"the book\", \"mommy\", \"daddy\", \"grandpa\", \"grandma\"],\n",
    "    \"theme\": [\"it\", \"them\", \"the cat\", \"the dog\", \"the bear\", \"the ball\", \"the cup\", \"the book\"],\n",
    "    \"recipient\": [\"me\", \"us\", \"him\", \"her\", \"mommy\", \"daddy\", \"grandpa\", \"grandma\"],\n",
    "}\n",
    "\n",
    "INVERSE_LEXICON = defaultdict(list)\n",
    "for key, values in LEXICON.items():\n",
    "    for value in values:\n",
    "        INVERSE_LEXICON[value].append(key)\n",
    "\n",
    "THEME_FEATURES = {\n",
    "    \"it\": {\"article\": \"it\", \"reference\": \"it\", \"is\": \"is\", \"was\": \"was\", \"belongs\": \"belongs\"},\n",
    "    \"them\": {\"article\": \"they\", \"reference\": \"they\", \"is\": \"are\", \"was\": \"were\", \"belongs\": \"belong\"},\n",
    "    \"the ball\": {\"article\": \"the ball\", \"reference\": \"it\", \"is\": \"is\", \"belongs\": \"belongs\", \"was\": \"was\"},\n",
    "    \"the cup\": {\"article\": \"the cup\", \"reference\": \"it\", \"is\": \"is\", \"belongs\": \"belongs\", \"was\": \"was\"},\n",
    "    \"the book\": {\"article\": \"the book\", \"reference\": \"it\", \"is\": \"is\", \"belongs\": \"belongs\", \"was\": \"was\"},\n",
    "    \"the cat\": {\"article\": \"the cat\", \"reference\": \"it\", \"is\": \"is\", \"belongs\": \"belongs\", \"was\": \"was\"},\n",
    "    \"the dog\": {\"article\": \"the dog\", \"reference\": \"it\", \"is\": \"is\", \"belongs\": \"belongs\", \"was\": \"was\"},\n",
    "    \"the bear\": {\"article\": \"the bear\", \"reference\": \"it\", \"is\": \"is\", \"belongs\": \"belongs\", \"was\": \"was\"},\n",
    "}\n",
    "\n",
    "RECIPIENT_FEATURES = {\n",
    "    \"me\": {\"possessive\": \"mine\", \"pronoun-obj\": \"me\", \"pronoun-subj\": \"I\", \"has\": \"have\", \"own\": \"own\", \"think\": \"think\", \"was\": \"was\"},\n",
    "    \"us\": {\"possessive\": \"ours\", \"pronoun-obj\": \"us\", \"pronoun-subj\": \"we\", \"has\": \"have\", \"own\": \"own\", \"think\": \"think\", \"was\": \"were\"},\n",
    "    \"him\": {\"possessive\": \"his\", \"pronoun-obj\": \"him\", \"pronoun-subj\": \"he\", \"has\": \"has\", \"own\": \"owns\", \"think\": \"thinks\", \"was\": \"was\"},\n",
    "    \"her\": {\"possessive\": \"hers\", \"pronoun-obj\": \"her\", \"pronoun-subj\": \"she\", \"has\": \"has\", \"own\": \"owns\", \"think\": \"thinks\", \"was\": \"was\"},\n",
    "    \"mommy\": {\"possessive\": \"hers\", \"pronoun-obj\": \"her\", \"pronoun-subj\": \"she\", \"has\": \"has\", \"own\": \"owns\", \"think\": \"thinks\", \"was\": \"was\"},\n",
    "    \"daddy\": {\"possessive\": \"his\", \"pronoun-obj\": \"him\", \"pronoun-subj\": \"he\", \"has\": \"has\", \"own\": \"owns\", \"think\": \"thinks\", \"was\": \"was\"},\n",
    "    \"grandpa\": {\"possessive\": \"his\", \"pronoun-obj\": \"him\", \"pronoun-subj\": \"he\", \"has\": \"has\", \"own\": \"owns\", \"think\": \"thinks\", \"was\": \"was\"},\n",
    "    \"grandma\": {\"possessive\": \"hers\", \"pronoun-obj\": \"her\", \"pronoun-subj\": \"she\", \"has\": \"has\", \"own\": \"owns\", \"think\": \"thinks\", \"was\": \"was\"},\n",
    "}\n",
    "\n",
    "AGENTS = [\"sam\", \"ryan\", \"john\", \"katie\", \"lucy\", \"sarah\"]"
   ]
  },
  {
   "cell_type": "code",
   "execution_count": 5,
   "metadata": {},
   "outputs": [
    {
     "data": {
      "text/plain": [
       "defaultdict(list,\n",
       "            {'them': ['animate', 'pronoun', 'theme'],\n",
       "             'the cat': ['animate', 'nominal', 'theme'],\n",
       "             'the dog': ['animate', 'nominal', 'theme'],\n",
       "             'the bear': ['animate', 'nominal', 'theme'],\n",
       "             'me': ['animate', 'pronoun', 'recipient'],\n",
       "             'us': ['animate', 'pronoun', 'recipient'],\n",
       "             'him': ['animate', 'pronoun', 'recipient'],\n",
       "             'her': ['animate', 'pronoun', 'recipient'],\n",
       "             'mommy': ['animate', 'nominal', 'recipient'],\n",
       "             'daddy': ['animate', 'nominal', 'recipient'],\n",
       "             'grandpa': ['animate', 'nominal', 'recipient'],\n",
       "             'grandma': ['animate', 'nominal', 'recipient'],\n",
       "             'it': ['inanimate', 'pronoun', 'theme'],\n",
       "             'the ball': ['inanimate', 'nominal', 'theme'],\n",
       "             'the cup': ['inanimate', 'nominal', 'theme'],\n",
       "             'the book': ['inanimate', 'nominal', 'theme']})"
      ]
     },
     "execution_count": 5,
     "metadata": {},
     "output_type": "execute_result"
    }
   ],
   "source": [
    "INVERSE_LEXICON"
   ]
  },
  {
   "cell_type": "code",
   "execution_count": 6,
   "metadata": {},
   "outputs": [],
   "source": [
    "def specified(template, theme, recipient):\n",
    "    tf = THEME_FEATURES[theme]\n",
    "    rf = RECIPIENT_FEATURES[recipient]\n",
    "    if template == 1:\n",
    "        return f\"{tf['reference']} {tf['is']} {rf['possessive']} now .\"\n",
    "    if template == 2:\n",
    "        return f\"{tf['reference']} {tf['belongs']} to {rf['pronoun-obj']} now .\"\n",
    "    if template == 3:\n",
    "        return f\"{rf['pronoun-subj']} {rf['has']} {tf['reference']} now .\"\n",
    "    if template == 4:\n",
    "        return f\"{rf['pronoun-subj']} {rf['own']} {theme} now .\"\n",
    "    if template == 5:\n",
    "        return f\"{rf['pronoun-subj']} was happy to get {theme} .\"\n",
    "    if template == 6:\n",
    "        return f\"{rf['pronoun-subj']} took {theme} to the room .\"\n",
    "\n",
    "def unspecified(template, theme, recipient):\n",
    "    tf = THEME_FEATURES[theme]\n",
    "    rf = RECIPIENT_FEATURES[recipient]\n",
    "    if template == 1:\n",
    "        return f\"{tf['reference']} {tf['was']} very nice .\"\n",
    "    if template == 2:\n",
    "        return f\"{tf['reference']} {tf['was']} nice and awesome .\"\n",
    "    if template == 3:\n",
    "        return f\"{rf['pronoun-subj']} {rf['think']} {tf['reference']} {tf['was']} nice .\"\n",
    "    if template == 4:\n",
    "        return f\"{rf['pronoun-subj']} {rf['think']} {tf['article']} {tf['was']} awesome .\"\n",
    "    if template == 5:\n",
    "        return f\"{rf['pronoun-subj']} thought {tf['article']} {tf['was']} very nice .\"\n",
    "    if template == 6:\n",
    "        return f\"{rf['pronoun-subj']} thought {tf['article']} {tf['was']} so awesome .\"\n"
   ]
  },
  {
   "cell_type": "code",
   "execution_count": 7,
   "metadata": {},
   "outputs": [],
   "source": [
    "items = list(product(LEXICON['theme'], LEXICON['recipient']))\n",
    "\n",
    "random.seed(42)\n",
    "\n",
    "stimuli = []\n",
    "\n",
    "idx = 0\n",
    "\n",
    "for t in range(1, 6):\n",
    "    # print(f\"OUTSIDE: {t}\")\n",
    "    for i, (theme, recipient) in enumerate(items):\n",
    "        # print(f\"INSIDE: {t}\")\n",
    "        theme_animacy = INVERSE_LEXICON[theme][0]\n",
    "        recipient_animacy = INVERSE_LEXICON[recipient][0]\n",
    "        theme_pronominality = INVERSE_LEXICON[theme][1]\n",
    "        recipient_pronominality = INVERSE_LEXICON[recipient][1]\n",
    "\n",
    "        agent = random.sample(AGENTS, 1)[0]\n",
    "        dative = Dative(\"pp\", \"[verb]\", agent, theme, recipient)\n",
    "        dative_sentence = dative.generate()\n",
    "\n",
    "        spec_continuation = specified(t, theme, recipient)\n",
    "        unspec_continuation = unspecified(t, theme, recipient)\n",
    "\n",
    "        full_sentence_spec = f\"{dative_sentence} {spec_continuation}\"\n",
    "        full_sentence_unspec = f\"{dative_sentence} {unspec_continuation}\"\n",
    "\n",
    "        stimuli.append({\n",
    "            \"item\": idx,\n",
    "            \"hypothesis_instance\": t,\n",
    "            \"hypothesis_id\": t,\n",
    "            \"agent\": agent,\n",
    "            \"template\": t,\n",
    "            \"theme\": theme,\n",
    "            \"recipient\": recipient,\n",
    "            \"theme_animacy\": theme_animacy,\n",
    "            \"recipient_animacy\": recipient_animacy,\n",
    "            \"theme_pronominality\": theme_pronominality,\n",
    "            \"recipient_pronominality\": recipient_pronominality,\n",
    "            \"dative\": \"pp\",\n",
    "            \"dative_sentence\": dative_sentence,\n",
    "            \"specificity\": \"specified\",\n",
    "            \"sentence\": full_sentence_spec\n",
    "        })\n",
    "\n",
    "        stimuli.append({\n",
    "            \"item\": idx,\n",
    "            \"hypothesis_instance\": t,\n",
    "            \"hypothesis_id\": t,\n",
    "            \"agent\": agent,\n",
    "            \"template\": t,\n",
    "            \"theme\": theme,\n",
    "            \"recipient\": recipient,\n",
    "            \"theme_animacy\": theme_animacy,\n",
    "            \"recipient_animacy\": recipient_animacy,\n",
    "            \"theme_pronominality\": theme_pronominality,\n",
    "            \"recipient_pronominality\": recipient_pronominality,\n",
    "            \"dative\": \"pp\",\n",
    "            \"dative_sentence\": dative_sentence,\n",
    "            \"specificity\": \"unspecified\",\n",
    "            \"sentence\": full_sentence_unspec\n",
    "        })\n",
    "\n",
    "        idx += 1"
   ]
  },
  {
   "cell_type": "code",
   "execution_count": 8,
   "metadata": {},
   "outputs": [
    {
     "data": {
      "text/plain": [
       "640"
      ]
     },
     "execution_count": 8,
     "metadata": {},
     "output_type": "execute_result"
    }
   ],
   "source": [
    "len(stimuli)"
   ]
  },
  {
   "cell_type": "code",
   "execution_count": 9,
   "metadata": {},
   "outputs": [],
   "source": [
    "# write stimuli to jsonl\n",
    "pathlib.Path(\"../data/experiments/single_stimuli_dative_simulation_valtest_vbd_possession_specificity/\").mkdir(exist_ok=True, parents=True)\n",
    "\n",
    "with open(\"../data/experiments/single_stimuli_dative_simulation_valtest_vbd_possession_specificity/adaptation.jsonl\", \"w\") as f:\n",
    "    for item in stimuli:\n",
    "        f.write(json.dumps(item) + \"\\n\")\n",
    "\n",
    "generalization = utils.read_jsonl(\"../data/experiments/single_stimuli_dative_simulation_valtest_vbd_no_markedness_discourse_control/generalization.jsonl\")\n",
    "\n",
    "write_jsonl(generalization, f\"../data/experiments/single_stimuli_dative_simulation_valtest_vbd_possession_specificity/generalization.jsonl\")"
   ]
  },
  {
   "cell_type": "code",
   "execution_count": 10,
   "metadata": {},
   "outputs": [],
   "source": [
    "specified_stimuli = []\n",
    "unspecified_stimuli = []\n",
    "\n",
    "for item in stimuli:\n",
    "    if item[\"specificity\"] == \"specified\":\n",
    "        specified_stimuli.append(item)\n",
    "    else:\n",
    "        unspecified_stimuli.append(item)"
   ]
  },
  {
   "cell_type": "code",
   "execution_count": 11,
   "metadata": {},
   "outputs": [],
   "source": [
    "# write stimuli to jsonl\n",
    "pathlib.Path(\"../data/experiments/single_stimuli_dative_simulation_valtest_vbd_possession_specified/\").mkdir(exist_ok=True, parents=True)\n",
    "\n",
    "with open(\"../data/experiments/single_stimuli_dative_simulation_valtest_vbd_possession_specified/adaptation.jsonl\", \"w\") as f:\n",
    "    for item in specified_stimuli:\n",
    "        f.write(json.dumps(item) + \"\\n\")\n",
    "\n",
    "# generalization = utils.read_jsonl(\"../data/experiments/single_stimuli_dative_simulation_valtest_vbd_no_markedness_discourse_control/generalization.jsonl\")\n",
    "\n",
    "write_jsonl(generalization, f\"../data/experiments/single_stimuli_dative_simulation_valtest_vbd_possession_specified/generalization.jsonl\")\n",
    "\n",
    "\n",
    "pathlib.Path(\"../data/experiments/single_stimuli_dative_simulation_valtest_vbd_possession_unspecified/\").mkdir(exist_ok=True, parents=True)\n",
    "\n",
    "with open(\"../data/experiments/single_stimuli_dative_simulation_valtest_vbd_possession_unspecified/adaptation.jsonl\", \"w\") as f:\n",
    "    for item in unspecified_stimuli:\n",
    "        f.write(json.dumps(item) + \"\\n\")\n",
    "\n",
    "# generalization = utils.read_jsonl(\"../data/experiments/single_stimuli_dative_simulation_valtest_vbd_no_markedness_discourse_control/generalization.jsonl\")\n",
    "\n",
    "write_jsonl(generalization, f\"../data/experiments/single_stimuli_dative_simulation_valtest_vbd_possession_unspecified/generalization.jsonl\")"
   ]
  },
  {
   "cell_type": "code",
   "execution_count": null,
   "metadata": {},
   "outputs": [],
   "source": []
  }
 ],
 "metadata": {
  "kernelspec": {
   "display_name": "kmisra",
   "language": "python",
   "name": "python3"
  },
  "language_info": {
   "codemirror_mode": {
    "name": "ipython",
    "version": 3
   },
   "file_extension": ".py",
   "mimetype": "text/x-python",
   "name": "python",
   "nbconvert_exporter": "python",
   "pygments_lexer": "ipython3",
   "version": "3.11.4"
  }
 },
 "nbformat": 4,
 "nbformat_minor": 2
}
