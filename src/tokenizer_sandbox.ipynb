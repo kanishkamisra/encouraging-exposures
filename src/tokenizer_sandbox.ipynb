{
 "cells": [
  {
   "cell_type": "code",
   "execution_count": 1,
   "metadata": {},
   "outputs": [
    {
     "name": "stderr",
     "output_type": "stream",
     "text": [
      "/scratch/miniconda3/envs/dev/lib/python3.11/site-packages/transformers/utils/hub.py:128: FutureWarning: Using `TRANSFORMERS_CACHE` is deprecated and will be removed in v5 of Transformers. Use `HF_HOME` instead.\n",
      "  warnings.warn(\n"
     ]
    }
   ],
   "source": [
    "from minicons import scorer"
   ]
  },
  {
   "cell_type": "code",
   "execution_count": 2,
   "metadata": {},
   "outputs": [],
   "source": [
    "lm = scorer.IncrementalLMScorer(\"../../smolm/models/smolm-aochildes-vocab_8192-layers_8-attn_8-hidden_256-inter_1024-lr_1e-3-seed_1024\")"
   ]
  },
  {
   "cell_type": "code",
   "execution_count": 65,
   "metadata": {},
   "outputs": [
    {
     "data": {
      "text/plain": [
       "['<s>', 'Ġdo', 'Ġyou', 'Ġsee', 'Ġhere', \"'s\", 'Ġhim', 'Ġ?']"
      ]
     },
     "execution_count": 65,
     "metadata": {},
     "output_type": "execute_result"
    }
   ],
   "source": [
    "lm.tokenizer.convert_ids_to_tokens(lm.tokenizer(\"Do you see here's him ?\").input_ids)"
   ]
  },
  {
   "cell_type": "code",
   "execution_count": 24,
   "metadata": {},
   "outputs": [
    {
     "data": {
      "text/plain": [
       "['<s>', 'Ġthe', 'Ġbooster', 'Ġfrosting']"
      ]
     },
     "execution_count": 24,
     "metadata": {},
     "output_type": "execute_result"
    }
   ],
   "source": [
    "string = \"The booster frosting\"\n",
    "\n",
    "lm.tokenizer.convert_ids_to_tokens(lm.tokenizer(string).input_ids)"
   ]
  },
  {
   "cell_type": "code",
   "execution_count": 69,
   "metadata": {},
   "outputs": [
    {
     "data": {
      "text/plain": [
       "[[('<s>', 0.0),\n",
       "  ('Ġwhat', -2.760610580444336),\n",
       "  (\"'s\", -1.4324274063110352),\n",
       "  ('Ġyour', -4.042392730712891),\n",
       "  ('Ġname', -1.7287712097167969),\n",
       "  ('Ġ?', -0.1661663055419922),\n",
       "  ('Ċ', 0.0),\n",
       "  ('<s>', -2.09808349609375e-05),\n",
       "  ('Ġmy', -5.074725151062012),\n",
       "  ('Ġname', -0.0777740478515625),\n",
       "  ('Ġis', -0.42629051208496094),\n",
       "  ('Ġlucy', -8.881217002868652)],\n",
       " [('<s>', 0.0),\n",
       "  ('Ġwhat', -2.760610580444336),\n",
       "  (\"'s\", -1.4324274063110352),\n",
       "  ('Ġyour', -4.042392730712891),\n",
       "  ('Ġname', -1.7287712097167969),\n",
       "  ('Ġ?', -0.1661663055419922),\n",
       "  ('Ġmy', -22.887081146240234),\n",
       "  ('Ġname', -0.04720878601074219),\n",
       "  ('Ġis', -3.928513526916504),\n",
       "  ('Ġlucy', -10.989437103271484)]]"
      ]
     },
     "execution_count": 69,
     "metadata": {},
     "output_type": "execute_result"
    }
   ],
   "source": [
    "stimuli = [\"what's your name ?\\n<s> my name is lucy\", \"what's your name ? my name is lucy\"]\n",
    "\n",
    "lm.token_score(stimuli)"
   ]
  },
  {
   "cell_type": "code",
   "execution_count": 31,
   "metadata": {},
   "outputs": [
    {
     "data": {
      "text/plain": [
       "['<s>',\n",
       " 'Ġjust',\n",
       " 'Ġlike',\n",
       " 'Ġyour',\n",
       " 'Ġbook',\n",
       " 'Ġat',\n",
       " 'Ġhome',\n",
       " 'Ġ.',\n",
       " 'Ċ',\n",
       " '<s>',\n",
       " 'Ġdo',\n",
       " 'Ġyou',\n",
       " 'Ġwant',\n",
       " 'Ġto',\n",
       " 'Ġlook',\n",
       " 'Ġat',\n",
       " 'Ġthat',\n",
       " 'Ġit',\n",
       " 'Ġsays',\n",
       " 'Ġlook',\n",
       " 'Ġ?',\n",
       " 'Ċ',\n",
       " '<s>',\n",
       " 'Ġsee',\n",
       " 'Ġ.',\n",
       " 'Ċ',\n",
       " '<s>',\n",
       " 'Ġthere',\n",
       " \"'s\",\n",
       " 'Ġa',\n",
       " 'Ġface',\n",
       " 'Ġwith',\n",
       " 'Ġglasses',\n",
       " 'Ġ.',\n",
       " 'Ċ',\n",
       " '<s>',\n",
       " 'Ġaha',\n",
       " 'Ġ.',\n",
       " 'Ċ',\n",
       " '<s>',\n",
       " 'Ġlook',\n",
       " 'Ġthere',\n",
       " \"'s\",\n",
       " 'Ġpooh',\n",
       " 'Ġbear',\n",
       " 'Ġ.',\n",
       " 'Ċ',\n",
       " '<s>',\n",
       " 'Ġthere',\n",
       " \"'s\",\n",
       " 'Ġa',\n",
       " 'Ġbaby',\n",
       " 'Ġbear',\n",
       " 'Ġwith',\n",
       " 'Ġhis',\n",
       " 'Ġbottle',\n",
       " 'Ġ.',\n",
       " 'Ċ',\n",
       " '<s>',\n",
       " 'Ġwho',\n",
       " \"'s\",\n",
       " 'Ġthat',\n",
       " 'Ġ?',\n",
       " 'Ċ',\n",
       " '<s>',\n",
       " 'Ġis',\n",
       " 'Ġthat',\n",
       " 'Ġchild',\n",
       " 'Ġ.',\n",
       " 'Ċ',\n",
       " '<s>',\n",
       " 'Ġaha',\n",
       " 'Ġi',\n",
       " 'Ġthink',\n",
       " 'Ġi',\n",
       " 'Ġsee',\n",
       " 'Ġchild',\n",
       " 'Ġ.',\n",
       " 'Ċ',\n",
       " '<s>',\n",
       " 'Ġthere',\n",
       " 'Ġhe',\n",
       " 'Ġis',\n",
       " 'Ġ.',\n",
       " 'Ċ',\n",
       " '<s>',\n",
       " 'Ġthere',\n",
       " 'Ġhe',\n",
       " 'Ġis',\n",
       " 'Ġ.',\n",
       " 'Ċ',\n",
       " '<s>',\n",
       " 'Ġyeah',\n",
       " 'Ġyeah',\n",
       " 'Ġthere',\n",
       " 'Ġhe',\n",
       " 'Ġis',\n",
       " 'Ġ.',\n",
       " 'Ċ',\n",
       " '<s>',\n",
       " 'Ġyou',\n",
       " 'Ġsee',\n",
       " 'Ġyourself',\n",
       " 'Ġ.',\n",
       " 'Ċ',\n",
       " '<s>',\n",
       " 'Ġthat',\n",
       " \"'s\",\n",
       " 'Ġmy',\n",
       " 'Ġpretty',\n",
       " 'Ġbaby',\n",
       " 'Ġboy',\n",
       " 'Ġ.',\n",
       " 'Ċ',\n",
       " '<s>',\n",
       " 'Ġi',\n",
       " \"'m\",\n",
       " 'Ġsorry',\n",
       " 'Ġthat',\n",
       " \"'s\",\n",
       " 'Ġhandsome',\n",
       " 'Ġbaby',\n",
       " 'Ġboy',\n",
       " 'Ġ.',\n",
       " 'Ċ',\n",
       " '<s>',\n",
       " 'Ġyou',\n",
       " 'Ġlike']"
      ]
     },
     "execution_count": 31,
     "metadata": {},
     "output_type": "execute_result"
    }
   ],
   "source": [
    "lm.tokenizer.convert_ids_to_tokens([1, 215, 152, 117, 299, 191, 574, 38, 35, 1, 62, 46, 151, 70, 155, 191, 69, 66, 547, 155, 40, 35, 1, 136, 38, 35, 1, 111, 57, 44, 842, 172, 1668, 38, 35, 1, 272, 38, 35, 1, 155, 111, 57, 1695, 462, 38, 35, 1, 111, 57, 44, 279, 462, 172, 273, 1132, 38, 35, 1, 193, 57, 69, 40, 35, 1, 87, 69, 759, 38, 35, 1, 272, 43, 189, 43, 136, 759, 38, 35, 1, 111, 76, 87, 38, 35, 1, 111, 76, 87, 38, 35, 1, 135, 135, 111, 76, 87, 38, 35, 1, 46, 136, 1012, 38, 35, 1, 69, 57, 224, 478, 279, 388, 38, 35, 1, 43, 231, 928, 69, 57, 5163, 279, 388, 38, 35, 1, 46, 152])"
   ]
  },
  {
   "cell_type": "code",
   "execution_count": 34,
   "metadata": {},
   "outputs": [
    {
     "data": {
      "text/plain": [
       "'\\n'"
      ]
     },
     "execution_count": 34,
     "metadata": {},
     "output_type": "execute_result"
    }
   ],
   "source": [
    "lm.tokenizer.decode([35])"
   ]
  },
  {
   "cell_type": "code",
   "execution_count": 47,
   "metadata": {},
   "outputs": [
    {
     "data": {
      "text/plain": [
       "[-3.5176568031311035]"
      ]
     },
     "execution_count": 47,
     "metadata": {},
     "output_type": "execute_result"
    }
   ],
   "source": [
    "lm.sequence_score(\"Do you see lucy and the ball ?\\n<s> lucy gave the ball to adam\")"
   ]
  },
  {
   "cell_type": "code",
   "execution_count": 48,
   "metadata": {},
   "outputs": [
    {
     "data": {
      "text/plain": [
       "[-3.8024137020111084]"
      ]
     },
     "execution_count": 48,
     "metadata": {},
     "output_type": "execute_result"
    }
   ],
   "source": [
    "lm.sequence_score(\"Do you see lucy and the ball ?\\n<s> lucy gave adam the ball\")"
   ]
  },
  {
   "cell_type": "code",
   "execution_count": 50,
   "metadata": {},
   "outputs": [
    {
     "data": {
      "text/plain": [
       "([-4.064093112945557], [-4.361660480499268])"
      ]
     },
     "execution_count": 50,
     "metadata": {},
     "output_type": "execute_result"
    }
   ],
   "source": [
    "lm.sequence_score(\"Do you see lucy and adam ?\\n<s> lucy gave the ball to adam\"), lm.sequence_score(\"Do you see lucy and adam ?\\n<s> lucy gave adam a ball\")"
   ]
  },
  {
   "cell_type": "code",
   "execution_count": 58,
   "metadata": {},
   "outputs": [
    {
     "data": {
      "text/plain": [
       "[[('<s>', 0.0, 0),\n",
       "  ('Ġdo', -4.053476333618164, 11),\n",
       "  ('Ġyou', -0.1517190933227539, 1),\n",
       "  ('Ġsee', -2.7871055603027344, 6),\n",
       "  ('Ġlucy', -10.418323516845703, 692),\n",
       "  ('Ġwith', -4.619477272033691, 13),\n",
       "  ('Ġa', -2.886920928955078, 4),\n",
       "  ('Ġball', -4.869740009307861, 21),\n",
       "  ('Ġ?', -0.6191320419311523, 1),\n",
       "  ('Ċ', -1.9073486328125e-06, 1),\n",
       "  ('<s>', -2.09808349609375e-05, 1),\n",
       "  ('Ġlucy', -4.002530097961426, 15),\n",
       "  ('Ġgave', -5.166034698486328, 16),\n",
       "  ('Ġthe', -2.4619932174682617, 4),\n",
       "  ('Ġball', -1.1223745346069336, 1),\n",
       "  ('Ġto', -0.17212963104248047, 1),\n",
       "  ('Ġadam', -10.102564811706543, 618)]]"
      ]
     },
     "execution_count": 58,
     "metadata": {},
     "output_type": "execute_result"
    }
   ],
   "source": [
    "lm.token_score(\"Do you see lucy with a ball ?\\n<s> lucy gave the ball to adam\", rank = True)"
   ]
  },
  {
   "cell_type": "code",
   "execution_count": null,
   "metadata": {},
   "outputs": [],
   "source": []
  }
 ],
 "metadata": {
  "kernelspec": {
   "display_name": "dev",
   "language": "python",
   "name": "python3"
  },
  "language_info": {
   "codemirror_mode": {
    "name": "ipython",
    "version": 3
   },
   "file_extension": ".py",
   "mimetype": "text/x-python",
   "name": "python",
   "nbconvert_exporter": "python",
   "pygments_lexer": "ipython3",
   "version": "3.11.11"
  }
 },
 "nbformat": 4,
 "nbformat_minor": 2
}
