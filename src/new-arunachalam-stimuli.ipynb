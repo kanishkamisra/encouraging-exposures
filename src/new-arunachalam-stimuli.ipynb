{
 "cells": [
  {
   "cell_type": "code",
   "execution_count": 17,
   "metadata": {},
   "outputs": [],
   "source": [
    "from collections import defaultdict\n",
    "from itertools import cycle, islice\n",
    "from ordered_set import OrderedSet\n",
    "from string import Template\n",
    "\n",
    "import utils"
   ]
  },
  {
   "cell_type": "code",
   "execution_count": 2,
   "metadata": {},
   "outputs": [],
   "source": [
    "pre_template_tr = Template(\"here's $agent .\\n<s> hi $agent !\\n<s> here's a $theme and a $recipient !\\n<s>\")\n",
    "pre_template_rt = Template(\"here's $agent .\\n<s> hi $agent !\\n<s> here's a $recipient and a $theme !\\n<s>\")\n",
    "\n",
    "do_template = Template(\"$agent [verb] the $recipient the $theme .\")\n",
    "po_template = Template(\"$agent [verb] the $theme to the $recipient .\")"
   ]
  },
  {
   "cell_type": "code",
   "execution_count": 10,
   "metadata": {},
   "outputs": [],
   "source": [
    "def create_stimuli(pre, agent, recipient, theme):\n",
    "    pre = pre.substitute(agent=agent, theme=theme, recipient=recipient)\n",
    "    do = do_template.substitute(agent=agent, theme=theme, recipient=recipient)\n",
    "    po = po_template.substitute(agent=agent, theme=theme, recipient=recipient)\n",
    "    do = f\"{pre} {do}\"\n",
    "    po = f\"{pre} {po}\"\n",
    "    return (do, po)\n",
    "\n",
    "\n",
    "def create_entry(i, order, agent, theme, recipient, theme_animacy, dative, stimulus):\n",
    "    return {\n",
    "        \"idx\": i,\n",
    "        \"givenness_order\": order,\n",
    "        \"agent\": agent,\n",
    "        \"theme\": theme,\n",
    "        \"recipient\": recipient,\n",
    "        \"theme_animacy\": theme_animacy,\n",
    "        \"dative\": dative,\n",
    "        \"stimulus\": stimulus,\n",
    "    }"
   ]
  },
  {
   "cell_type": "code",
   "execution_count": 11,
   "metadata": {},
   "outputs": [],
   "source": [
    "animates = ['man', 'turtle', 'dog', 'bear', 'cat', 'lady', 'boy', 'girl', 'horse', 'baby', 'bunny']\n",
    "inanimates = ['cookie', 'lego', 'block', 'pencil', 'cup', 'ball', 'book', 'box', 'clothes', 'bag']\n",
    "\n",
    "agents = [\"laura\", \"mark\", \"sarah\", \"william\", \"alex\"]"
   ]
  },
  {
   "cell_type": "code",
   "execution_count": 12,
   "metadata": {},
   "outputs": [],
   "source": [
    "arunachalam_arguments = []\n",
    "for recipient in animates:\n",
    "    animate_space = OrderedSet(animates) - OrderedSet([recipient])\n",
    "    inanimate_space = inanimates\n",
    "\n",
    "    for a_theme in animate_space:\n",
    "        arunachalam_arguments.append((a_theme, 'animate', recipient))\n",
    "    for i_theme in inanimate_space:\n",
    "        arunachalam_arguments.append((i_theme, 'inanimate', recipient))"
   ]
  },
  {
   "cell_type": "code",
   "execution_count": 13,
   "metadata": {},
   "outputs": [
    {
     "data": {
      "text/plain": [
       "220"
      ]
     },
     "execution_count": 13,
     "metadata": {},
     "output_type": "execute_result"
    }
   ],
   "source": [
    "len(arunachalam_arguments)"
   ]
  },
  {
   "cell_type": "code",
   "execution_count": 14,
   "metadata": {},
   "outputs": [],
   "source": [
    "arunachalam_stimuli = []\n",
    "for i, (agent, args) in enumerate(zip(cycle(agents), arunachalam_arguments)):\n",
    "    theme, theme_animacy, recipient = args\n",
    "    do_tr, po_tr = create_stimuli(pre_template_tr, agent, recipient, theme)\n",
    "    do_rt, po_rt = create_stimuli(pre_template_rt, agent, recipient, theme)\n",
    "\n",
    "    # arunachalam_stimuli.append((i, \"theme-recipient\", agent, theme, recipient, theme_animacy, 'do', do_tr))\n",
    "    arunachalam_stimuli.append(\n",
    "        create_entry(\n",
    "            i, \"theme_recipient\", agent, theme, recipient, theme_animacy, \"do\", do_tr\n",
    "        )\n",
    "    )\n",
    "    arunachalam_stimuli.append(\n",
    "        create_entry(\n",
    "            i, \"theme_recipient\", agent, theme, recipient, theme_animacy, \"pp\", po_tr\n",
    "        )\n",
    "    )\n",
    "    arunachalam_stimuli.append(\n",
    "        create_entry(\n",
    "            i, \"recipient_theme\", agent, theme, recipient, theme_animacy, \"do\", do_rt\n",
    "        )\n",
    "    )\n",
    "    arunachalam_stimuli.append(\n",
    "        create_entry(\n",
    "            i, \"recipient_theme\", agent, theme, recipient, theme_animacy, \"pp\", po_rt\n",
    "        )\n",
    "    )"
   ]
  },
  {
   "cell_type": "code",
   "execution_count": 18,
   "metadata": {},
   "outputs": [
    {
     "data": {
      "text/plain": [
       "880"
      ]
     },
     "execution_count": 18,
     "metadata": {},
     "output_type": "execute_result"
    }
   ],
   "source": [
    "len(arunachalam_stimuli)"
   ]
  },
  {
   "cell_type": "code",
   "execution_count": 20,
   "metadata": {},
   "outputs": [],
   "source": [
    "utils.write_jsonl(arunachalam_stimuli, \"../data/experiments/arunachalam-final.jsonl\")"
   ]
  },
  {
   "cell_type": "code",
   "execution_count": null,
   "metadata": {},
   "outputs": [],
   "source": []
  }
 ],
 "metadata": {
  "kernelspec": {
   "display_name": "dativegen",
   "language": "python",
   "name": "python3"
  },
  "language_info": {
   "codemirror_mode": {
    "name": "ipython",
    "version": 3
   },
   "file_extension": ".py",
   "mimetype": "text/x-python",
   "name": "python",
   "nbconvert_exporter": "python",
   "pygments_lexer": "ipython3",
   "version": "3.11.4"
  }
 },
 "nbformat": 4,
 "nbformat_minor": 2
}
