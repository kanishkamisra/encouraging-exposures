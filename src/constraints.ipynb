{
 "cells": [
  {
   "cell_type": "code",
   "execution_count": 67,
   "metadata": {},
   "outputs": [],
   "source": [
    "import utils\n",
    "import json\n",
    "\n",
    "from collections import defaultdict\n",
    "from ordered_set import OrderedSet"
   ]
  },
  {
   "cell_type": "code",
   "execution_count": 68,
   "metadata": {},
   "outputs": [],
   "source": [
    "CONTENT_LEMMAS = ['book', 'store', 'cup', 'pencil', 'ball', 'bear', 'dog', 'cat', 'lego', 'cheerios', 'milk', 'food', 'toy', 'chair', 'legos', 'pencils', 'dogs', 'bears']\n",
    "\n",
    "# read adaptation lexicon\n",
    "\n",
    "def read_lexicon(path):\n",
    "    with open(path, \"r\") as f:\n",
    "        lexicon = json.load(f)\n",
    "        lexicon = {k: OrderedSet(v) for k, v in lexicon.items()}\n",
    "        long = OrderedSet(\n",
    "            [\n",
    "                x\n",
    "                for x in lexicon[\"animate\"].union(lexicon[\"inanimate\"])\n",
    "                if len(x.split(\" \")) > 2\n",
    "            ]\n",
    "        )\n",
    "        short = OrderedSet(\n",
    "            [\n",
    "                x\n",
    "                for x in lexicon[\"animate\"].union(lexicon[\"inanimate\"])\n",
    "                if len(x.split(\" \")) <= 2\n",
    "            ]\n",
    "        )\n",
    "        nominals = OrderedSet(\n",
    "            [\n",
    "                x\n",
    "                for x in lexicon[\"animate\"].union(lexicon[\"inanimate\"])\n",
    "                - lexicon[\"pronoun\"]\n",
    "            ]\n",
    "        )\n",
    "        lexicon.update({\"long\": long, \"short\": short, \"nominal\": nominals})\n",
    "    return lexicon"
   ]
  },
  {
   "cell_type": "code",
   "execution_count": 69,
   "metadata": {},
   "outputs": [],
   "source": [
    "lexicon = read_lexicon(\"../data/lexicon/adaptation-final-nomarkedness.json\")"
   ]
  },
  {
   "cell_type": "code",
   "execution_count": 70,
   "metadata": {},
   "outputs": [],
   "source": [
    "unique_words = OrderedSet()\n",
    "for k, v in lexicon.items():\n",
    "    unique_words.update(v)"
   ]
  },
  {
   "cell_type": "code",
   "execution_count": 71,
   "metadata": {},
   "outputs": [
    {
     "data": {
      "text/plain": [
       "74"
      ]
     },
     "execution_count": 71,
     "metadata": {},
     "output_type": "execute_result"
    }
   ],
   "source": [
    "len(unique_words)"
   ]
  },
  {
   "cell_type": "code",
   "execution_count": 72,
   "metadata": {},
   "outputs": [
    {
     "data": {
      "text/plain": [
       "OrderedSet(['she', 'he', 'mommy', 'daddy', 'lucy', 'john', 'me', 'her', 'him', 'it', 'them', 'us', 'someone', 'something', 'grandpa', 'grandma', 'a cat', 'the cat', 'a dog', 'the dog', 'elmo', 'bert', 'a big bear', 'the big bear', 'a cute cat', 'a small dog', 'the cute cat', 'the small dog', 'the bear over there', 'a bear outside the house', 'the cat in that house', 'the cat over there', 'a cat in that house', 'the dog outside the house', 'a dog outside the house', 'the dog over there', 'some dogs outside the house', 'some bears in the forest', 'a bear', 'the bear', 'a ball', 'the ball', 'a book', 'the book', 'a cup', 'the cup', 'a toy', 'the toys', 'a red ball', 'the red ball', 'a nice book', 'some books', 'some balls', 'a toy in the room', 'the toys in the room', 'the cup on the table', 'a cup on the table', 'some milk', 'some food', 'the food', 'the milk', 'the food on the table', 'the balls in the room', 'a ball in that room', 'the cheerios', 'the legos', 'a lego', 'the pencils', 'a pencil', 'a chair', 'the chair', 'some cheerios', 'some cheerios in the container', 'the pencils in the box'])"
      ]
     },
     "execution_count": 72,
     "metadata": {},
     "output_type": "execute_result"
    }
   ],
   "source": [
    "unique_words"
   ]
  },
  {
   "cell_type": "code",
   "execution_count": 73,
   "metadata": {},
   "outputs": [],
   "source": [
    "conflict_set = defaultdict(OrderedSet)\n",
    "for word in CONTENT_LEMMAS:\n",
    "    # print(word)\n",
    "    # conflict_set = OrderedSet()\n",
    "    for uw in unique_words:\n",
    "        if word in uw:\n",
    "            conflict_set[word].add(uw)"
   ]
  },
  {
   "cell_type": "code",
   "execution_count": 74,
   "metadata": {},
   "outputs": [
    {
     "data": {
      "text/plain": [
       "defaultdict(ordered_set.OrderedSet,\n",
       "            {'book': OrderedSet(['a book', 'the book', 'a nice book', 'some books']),\n",
       "             'cup': OrderedSet(['a cup', 'the cup', 'the cup on the table', 'a cup on the table']),\n",
       "             'pencil': OrderedSet(['the pencils', 'a pencil', 'the pencils in the box']),\n",
       "             'ball': OrderedSet(['a ball', 'the ball', 'a red ball', 'the red ball', 'some balls', 'the balls in the room', 'a ball in that room']),\n",
       "             'bear': OrderedSet(['a big bear', 'the big bear', 'the bear over there', 'a bear outside the house', 'some bears in the forest', 'a bear', 'the bear']),\n",
       "             'dog': OrderedSet(['a dog', 'the dog', 'a small dog', 'the small dog', 'the dog outside the house', 'a dog outside the house', 'the dog over there', 'some dogs outside the house']),\n",
       "             'cat': OrderedSet(['a cat', 'the cat', 'a cute cat', 'the cute cat', 'the cat in that house', 'the cat over there', 'a cat in that house']),\n",
       "             'lego': OrderedSet(['the legos', 'a lego']),\n",
       "             'cheerios': OrderedSet(['the cheerios', 'some cheerios', 'some cheerios in the container']),\n",
       "             'milk': OrderedSet(['some milk', 'the milk']),\n",
       "             'food': OrderedSet(['some food', 'the food', 'the food on the table']),\n",
       "             'toy': OrderedSet(['a toy', 'the toys', 'a toy in the room', 'the toys in the room']),\n",
       "             'chair': OrderedSet(['a chair', 'the chair']),\n",
       "             'legos': OrderedSet(['the legos']),\n",
       "             'pencils': OrderedSet(['the pencils', 'the pencils in the box']),\n",
       "             'dogs': OrderedSet(['some dogs outside the house']),\n",
       "             'bears': OrderedSet(['some bears in the forest'])})"
      ]
     },
     "execution_count": 74,
     "metadata": {},
     "output_type": "execute_result"
    }
   ],
   "source": [
    "conflict_set"
   ]
  },
  {
   "cell_type": "code",
   "execution_count": 75,
   "metadata": {},
   "outputs": [],
   "source": [
    "conflict_words = defaultdict(set)\n",
    "for word, conflicts in conflict_set.items():\n",
    "    for c in conflicts:\n",
    "        conflict_words[c].update(conflicts)\n",
    "\n",
    "conflict_words = {k: list(v) for k, v in conflict_words.items()}"
   ]
  },
  {
   "cell_type": "code",
   "execution_count": 76,
   "metadata": {},
   "outputs": [
    {
     "data": {
      "text/plain": [
       "{'a book': ['the book', 'a nice book', 'some books', 'a book'],\n",
       " 'the book': ['the book', 'a nice book', 'some books', 'a book'],\n",
       " 'a nice book': ['the book', 'a nice book', 'some books', 'a book'],\n",
       " 'some books': ['the book', 'a nice book', 'some books', 'a book'],\n",
       " 'a cup': ['a cup on the table', 'the cup on the table', 'the cup', 'a cup'],\n",
       " 'the cup': ['a cup on the table', 'the cup on the table', 'the cup', 'a cup'],\n",
       " 'the cup on the table': ['a cup on the table',\n",
       "  'the cup on the table',\n",
       "  'the cup',\n",
       "  'a cup'],\n",
       " 'a cup on the table': ['a cup on the table',\n",
       "  'the cup on the table',\n",
       "  'the cup',\n",
       "  'a cup'],\n",
       " 'the pencils': ['a pencil', 'the pencils', 'the pencils in the box'],\n",
       " 'a pencil': ['a pencil', 'the pencils', 'the pencils in the box'],\n",
       " 'the pencils in the box': ['a pencil',\n",
       "  'the pencils',\n",
       "  'the pencils in the box'],\n",
       " 'a ball': ['the ball',\n",
       "  'some balls',\n",
       "  'the red ball',\n",
       "  'a ball in that room',\n",
       "  'the balls in the room',\n",
       "  'a red ball',\n",
       "  'a ball'],\n",
       " 'the ball': ['the ball',\n",
       "  'some balls',\n",
       "  'the red ball',\n",
       "  'a ball in that room',\n",
       "  'the balls in the room',\n",
       "  'a red ball',\n",
       "  'a ball'],\n",
       " 'a red ball': ['the ball',\n",
       "  'some balls',\n",
       "  'the red ball',\n",
       "  'a ball in that room',\n",
       "  'the balls in the room',\n",
       "  'a red ball',\n",
       "  'a ball'],\n",
       " 'the red ball': ['the ball',\n",
       "  'some balls',\n",
       "  'the red ball',\n",
       "  'a ball in that room',\n",
       "  'the balls in the room',\n",
       "  'a red ball',\n",
       "  'a ball'],\n",
       " 'some balls': ['the ball',\n",
       "  'some balls',\n",
       "  'the red ball',\n",
       "  'a ball in that room',\n",
       "  'the balls in the room',\n",
       "  'a red ball',\n",
       "  'a ball'],\n",
       " 'the balls in the room': ['the ball',\n",
       "  'some balls',\n",
       "  'the red ball',\n",
       "  'a ball in that room',\n",
       "  'the balls in the room',\n",
       "  'a red ball',\n",
       "  'a ball'],\n",
       " 'a ball in that room': ['the ball',\n",
       "  'some balls',\n",
       "  'the red ball',\n",
       "  'a ball in that room',\n",
       "  'the balls in the room',\n",
       "  'a red ball',\n",
       "  'a ball'],\n",
       " 'a big bear': ['a big bear',\n",
       "  'a bear outside the house',\n",
       "  'a bear',\n",
       "  'the bear over there',\n",
       "  'some bears in the forest',\n",
       "  'the bear',\n",
       "  'the big bear'],\n",
       " 'the big bear': ['a big bear',\n",
       "  'a bear outside the house',\n",
       "  'a bear',\n",
       "  'the bear over there',\n",
       "  'some bears in the forest',\n",
       "  'the bear',\n",
       "  'the big bear'],\n",
       " 'the bear over there': ['a big bear',\n",
       "  'a bear outside the house',\n",
       "  'a bear',\n",
       "  'the bear over there',\n",
       "  'some bears in the forest',\n",
       "  'the bear',\n",
       "  'the big bear'],\n",
       " 'a bear outside the house': ['a big bear',\n",
       "  'a bear outside the house',\n",
       "  'a bear',\n",
       "  'the bear over there',\n",
       "  'some bears in the forest',\n",
       "  'the bear',\n",
       "  'the big bear'],\n",
       " 'some bears in the forest': ['a big bear',\n",
       "  'a bear outside the house',\n",
       "  'a bear',\n",
       "  'the bear over there',\n",
       "  'some bears in the forest',\n",
       "  'the bear',\n",
       "  'the big bear'],\n",
       " 'a bear': ['a big bear',\n",
       "  'a bear outside the house',\n",
       "  'a bear',\n",
       "  'the bear over there',\n",
       "  'some bears in the forest',\n",
       "  'the bear',\n",
       "  'the big bear'],\n",
       " 'the bear': ['a big bear',\n",
       "  'a bear outside the house',\n",
       "  'a bear',\n",
       "  'the bear over there',\n",
       "  'some bears in the forest',\n",
       "  'the bear',\n",
       "  'the big bear'],\n",
       " 'a dog': ['the dog outside the house',\n",
       "  'the dog',\n",
       "  'a dog',\n",
       "  'a dog outside the house',\n",
       "  'a small dog',\n",
       "  'the small dog',\n",
       "  'some dogs outside the house',\n",
       "  'the dog over there'],\n",
       " 'the dog': ['the dog outside the house',\n",
       "  'the dog',\n",
       "  'a dog',\n",
       "  'a dog outside the house',\n",
       "  'a small dog',\n",
       "  'the small dog',\n",
       "  'some dogs outside the house',\n",
       "  'the dog over there'],\n",
       " 'a small dog': ['the dog outside the house',\n",
       "  'the dog',\n",
       "  'a dog',\n",
       "  'a dog outside the house',\n",
       "  'a small dog',\n",
       "  'the small dog',\n",
       "  'some dogs outside the house',\n",
       "  'the dog over there'],\n",
       " 'the small dog': ['the dog outside the house',\n",
       "  'the dog',\n",
       "  'a dog',\n",
       "  'a dog outside the house',\n",
       "  'a small dog',\n",
       "  'the small dog',\n",
       "  'some dogs outside the house',\n",
       "  'the dog over there'],\n",
       " 'the dog outside the house': ['the dog outside the house',\n",
       "  'the dog',\n",
       "  'a dog',\n",
       "  'a dog outside the house',\n",
       "  'a small dog',\n",
       "  'the small dog',\n",
       "  'some dogs outside the house',\n",
       "  'the dog over there'],\n",
       " 'a dog outside the house': ['the dog outside the house',\n",
       "  'the dog',\n",
       "  'a dog',\n",
       "  'a dog outside the house',\n",
       "  'a small dog',\n",
       "  'the small dog',\n",
       "  'some dogs outside the house',\n",
       "  'the dog over there'],\n",
       " 'the dog over there': ['the dog outside the house',\n",
       "  'the dog',\n",
       "  'a dog',\n",
       "  'a dog outside the house',\n",
       "  'a small dog',\n",
       "  'the small dog',\n",
       "  'some dogs outside the house',\n",
       "  'the dog over there'],\n",
       " 'some dogs outside the house': ['the dog outside the house',\n",
       "  'the dog',\n",
       "  'a dog',\n",
       "  'a dog outside the house',\n",
       "  'a small dog',\n",
       "  'the small dog',\n",
       "  'some dogs outside the house',\n",
       "  'the dog over there'],\n",
       " 'a cat': ['a cute cat',\n",
       "  'the cute cat',\n",
       "  'a cat in that house',\n",
       "  'a cat',\n",
       "  'the cat',\n",
       "  'the cat in that house',\n",
       "  'the cat over there'],\n",
       " 'the cat': ['a cute cat',\n",
       "  'the cute cat',\n",
       "  'a cat in that house',\n",
       "  'a cat',\n",
       "  'the cat',\n",
       "  'the cat in that house',\n",
       "  'the cat over there'],\n",
       " 'a cute cat': ['a cute cat',\n",
       "  'the cute cat',\n",
       "  'a cat in that house',\n",
       "  'a cat',\n",
       "  'the cat',\n",
       "  'the cat in that house',\n",
       "  'the cat over there'],\n",
       " 'the cute cat': ['a cute cat',\n",
       "  'the cute cat',\n",
       "  'a cat in that house',\n",
       "  'a cat',\n",
       "  'the cat',\n",
       "  'the cat in that house',\n",
       "  'the cat over there'],\n",
       " 'the cat in that house': ['a cute cat',\n",
       "  'the cute cat',\n",
       "  'a cat in that house',\n",
       "  'a cat',\n",
       "  'the cat',\n",
       "  'the cat in that house',\n",
       "  'the cat over there'],\n",
       " 'the cat over there': ['a cute cat',\n",
       "  'the cute cat',\n",
       "  'a cat in that house',\n",
       "  'a cat',\n",
       "  'the cat',\n",
       "  'the cat in that house',\n",
       "  'the cat over there'],\n",
       " 'a cat in that house': ['a cute cat',\n",
       "  'the cute cat',\n",
       "  'a cat in that house',\n",
       "  'a cat',\n",
       "  'the cat',\n",
       "  'the cat in that house',\n",
       "  'the cat over there'],\n",
       " 'the legos': ['a lego', 'the legos'],\n",
       " 'a lego': ['a lego', 'the legos'],\n",
       " 'the cheerios': ['some cheerios',\n",
       "  'some cheerios in the container',\n",
       "  'the cheerios'],\n",
       " 'some cheerios': ['some cheerios',\n",
       "  'some cheerios in the container',\n",
       "  'the cheerios'],\n",
       " 'some cheerios in the container': ['some cheerios',\n",
       "  'some cheerios in the container',\n",
       "  'the cheerios'],\n",
       " 'some milk': ['some milk', 'the milk'],\n",
       " 'the milk': ['some milk', 'the milk'],\n",
       " 'some food': ['the food on the table', 'some food', 'the food'],\n",
       " 'the food': ['the food on the table', 'some food', 'the food'],\n",
       " 'the food on the table': ['the food on the table', 'some food', 'the food'],\n",
       " 'a toy': ['a toy', 'the toys in the room', 'a toy in the room', 'the toys'],\n",
       " 'the toys': ['a toy',\n",
       "  'the toys in the room',\n",
       "  'a toy in the room',\n",
       "  'the toys'],\n",
       " 'a toy in the room': ['a toy',\n",
       "  'the toys in the room',\n",
       "  'a toy in the room',\n",
       "  'the toys'],\n",
       " 'the toys in the room': ['a toy',\n",
       "  'the toys in the room',\n",
       "  'a toy in the room',\n",
       "  'the toys'],\n",
       " 'a chair': ['a chair', 'the chair'],\n",
       " 'the chair': ['a chair', 'the chair']}"
      ]
     },
     "execution_count": 76,
     "metadata": {},
     "output_type": "execute_result"
    }
   ],
   "source": [
    "conflict_words"
   ]
  },
  {
   "cell_type": "code",
   "execution_count": 57,
   "metadata": {},
   "outputs": [],
   "source": [
    "# conflict_words = {}\n",
    "# for word, conflicts in conflict_set.items():\n",
    "#     for c in conflicts:\n",
    "#         conflict_words[c] = list(conflicts - {c})\n",
    "    \n",
    "# print(conflict_words)"
   ]
  },
  {
   "cell_type": "code",
   "execution_count": 16,
   "metadata": {},
   "outputs": [],
   "source": [
    "features = defaultdict(OrderedSet)\n",
    "\n",
    "for k,v in lexicon.items():\n",
    "    for word in v:\n",
    "        features[word].add(k)"
   ]
  },
  {
   "cell_type": "code",
   "execution_count": 11,
   "metadata": {},
   "outputs": [
    {
     "data": {
      "text/plain": [
       "OrderedSet(['inanimate', 'definite', 'theme', 'recipient', 'unmarked', 'short', 'nominal'])"
      ]
     },
     "execution_count": 11,
     "metadata": {},
     "output_type": "execute_result"
    }
   ],
   "source": [
    "features['teddy']"
   ]
  },
  {
   "cell_type": "code",
   "execution_count": 16,
   "metadata": {},
   "outputs": [
    {
     "data": {
      "text/plain": [
       "OrderedSet(['it', 'teddy'])"
      ]
     },
     "execution_count": 16,
     "metadata": {},
     "output_type": "execute_result"
    }
   ],
   "source": [
    "lexicon['inanimate'].intersection(lexicon['definite']).intersection(lexicon['recipient']).intersection(lexicon['short']).intersection(lexicon['unmarked'])"
   ]
  },
  {
   "cell_type": "code",
   "execution_count": null,
   "metadata": {},
   "outputs": [],
   "source": []
  }
 ],
 "metadata": {
  "kernelspec": {
   "display_name": "Python 3 (ipykernel)",
   "language": "python",
   "name": "python3"
  },
  "language_info": {
   "codemirror_mode": {
    "name": "ipython",
    "version": 3
   },
   "file_extension": ".py",
   "mimetype": "text/x-python",
   "name": "python",
   "nbconvert_exporter": "python",
   "pygments_lexer": "ipython3",
   "version": "3.11.4"
  }
 },
 "nbformat": 4,
 "nbformat_minor": 2
}
