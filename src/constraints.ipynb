{
 "cells": [
  {
   "cell_type": "code",
   "execution_count": 2,
   "metadata": {},
   "outputs": [],
   "source": [
    "import utils\n",
    "import json\n",
    "\n",
    "from collections import defaultdict\n",
    "from ordered_set import OrderedSet"
   ]
  },
  {
   "cell_type": "code",
   "execution_count": 17,
   "metadata": {},
   "outputs": [],
   "source": [
    "CONTENT_LEMMAS = ['book', 'store', 'cup', 'pencil', 'ball', 'bear', 'dog', 'cat', 'pencil', 'lego', 'cheerios', 'milk', 'food', 'toy']\n",
    "\n",
    "# read adaptation lexicon\n",
    "\n",
    "def read_lexicon(path):\n",
    "    with open(path, \"r\") as f:\n",
    "        lexicon = json.load(f)\n",
    "        lexicon = {k: OrderedSet(v) for k, v in lexicon.items()}\n",
    "        long = OrderedSet(\n",
    "            [\n",
    "                x\n",
    "                for x in lexicon[\"animate\"].union(lexicon[\"inanimate\"])\n",
    "                if len(x.split(\" \")) > 2\n",
    "            ]\n",
    "        )\n",
    "        short = OrderedSet(\n",
    "            [\n",
    "                x\n",
    "                for x in lexicon[\"animate\"].union(lexicon[\"inanimate\"])\n",
    "                if len(x.split(\" \")) <= 2\n",
    "            ]\n",
    "        )\n",
    "        nominals = OrderedSet(\n",
    "            [\n",
    "                x\n",
    "                for x in lexicon[\"animate\"].union(lexicon[\"inanimate\"])\n",
    "                - lexicon[\"pronoun\"]\n",
    "            ]\n",
    "        )\n",
    "        lexicon.update({\"long\": long, \"short\": short, \"nominal\": nominals})\n",
    "    return lexicon"
   ]
  },
  {
   "cell_type": "code",
   "execution_count": 18,
   "metadata": {},
   "outputs": [],
   "source": [
    "lexicon = read_lexicon(\"../data/lexicon/adaptation-final.json\")"
   ]
  },
  {
   "cell_type": "code",
   "execution_count": 19,
   "metadata": {},
   "outputs": [],
   "source": [
    "unique_words = OrderedSet()\n",
    "for k, v in lexicon.items():\n",
    "    unique_words.update(v)"
   ]
  },
  {
   "cell_type": "code",
   "execution_count": 20,
   "metadata": {},
   "outputs": [
    {
     "data": {
      "text/plain": [
       "96"
      ]
     },
     "execution_count": 20,
     "metadata": {},
     "output_type": "execute_result"
    }
   ],
   "source": [
    "len(unique_words)"
   ]
  },
  {
   "cell_type": "code",
   "execution_count": 21,
   "metadata": {},
   "outputs": [],
   "source": [
    "conflict_set = defaultdict(OrderedSet)\n",
    "for word in CONTENT_LEMMAS:\n",
    "    # print(word)\n",
    "    # conflict_set = OrderedSet()\n",
    "    for uw in unique_words:\n",
    "        if word in uw:\n",
    "            conflict_set[word].add(uw)"
   ]
  },
  {
   "cell_type": "code",
   "execution_count": 22,
   "metadata": {},
   "outputs": [
    {
     "name": "stdout",
     "output_type": "stream",
     "text": [
      "{'a book': ['the book', 'book', 'a nice book', 'some books'], 'the book': ['a book', 'book', 'a nice book', 'some books'], 'book': ['a book', 'the book', 'a nice book', 'some books'], 'a nice book': ['a book', 'the book', 'book', 'some books'], 'some books': ['a book', 'the book', 'book', 'a nice book'], 'a store': ['the store', 'some store', 'a store that is far away', 'the store that is far away', 'store'], 'the store': ['a store', 'some store', 'a store that is far away', 'the store that is far away', 'store'], 'some store': ['a store', 'the store', 'a store that is far away', 'the store that is far away', 'store'], 'a store that is far away': ['a store', 'the store', 'some store', 'the store that is far away', 'store'], 'the store that is far away': ['a store', 'the store', 'some store', 'a store that is far away', 'store'], 'store': ['a store', 'the store', 'some store', 'a store that is far away', 'the store that is far away'], 'cup': ['a cup', 'the cup', 'the cup on the table', 'cup on the table', 'a cup on the table'], 'a cup': ['cup', 'the cup', 'the cup on the table', 'cup on the table', 'a cup on the table'], 'the cup': ['cup', 'a cup', 'the cup on the table', 'cup on the table', 'a cup on the table'], 'the cup on the table': ['cup', 'a cup', 'the cup', 'cup on the table', 'a cup on the table'], 'cup on the table': ['cup', 'a cup', 'the cup', 'the cup on the table', 'a cup on the table'], 'a cup on the table': ['cup', 'a cup', 'the cup', 'the cup on the table', 'cup on the table'], 'pencils': ['the pencils'], 'the pencils': ['pencils'], 'a ball': ['the ball', 'a red ball', 'the red ball', 'some balls', 'the balls in the room', 'a ball in that room', 'balls in the room', 'ball'], 'the ball': ['a ball', 'a red ball', 'the red ball', 'some balls', 'the balls in the room', 'a ball in that room', 'balls in the room', 'ball'], 'a red ball': ['a ball', 'the ball', 'the red ball', 'some balls', 'the balls in the room', 'a ball in that room', 'balls in the room', 'ball'], 'the red ball': ['a ball', 'the ball', 'a red ball', 'some balls', 'the balls in the room', 'a ball in that room', 'balls in the room', 'ball'], 'some balls': ['a ball', 'the ball', 'a red ball', 'the red ball', 'the balls in the room', 'a ball in that room', 'balls in the room', 'ball'], 'the balls in the room': ['a ball', 'the ball', 'a red ball', 'the red ball', 'some balls', 'a ball in that room', 'balls in the room', 'ball'], 'a ball in that room': ['a ball', 'the ball', 'a red ball', 'the red ball', 'some balls', 'the balls in the room', 'balls in the room', 'ball'], 'balls in the room': ['a ball', 'the ball', 'a red ball', 'the red ball', 'some balls', 'the balls in the room', 'a ball in that room', 'ball'], 'ball': ['a ball', 'the ball', 'a red ball', 'the red ball', 'some balls', 'the balls in the room', 'a ball in that room', 'balls in the room'], 'a big bear': ['the big bear', 'the bear over there', 'a bear outside the house', 'bear over there', 'a bear', 'the bear', 'bear', 'big bear'], 'the big bear': ['a big bear', 'the bear over there', 'a bear outside the house', 'bear over there', 'a bear', 'the bear', 'bear', 'big bear'], 'the bear over there': ['a big bear', 'the big bear', 'a bear outside the house', 'bear over there', 'a bear', 'the bear', 'bear', 'big bear'], 'a bear outside the house': ['a big bear', 'the big bear', 'the bear over there', 'bear over there', 'a bear', 'the bear', 'bear', 'big bear'], 'bear over there': ['a big bear', 'the big bear', 'the bear over there', 'a bear outside the house', 'a bear', 'the bear', 'bear', 'big bear'], 'a bear': ['a big bear', 'the big bear', 'the bear over there', 'a bear outside the house', 'bear over there', 'the bear', 'bear', 'big bear'], 'the bear': ['a big bear', 'the big bear', 'the bear over there', 'a bear outside the house', 'bear over there', 'a bear', 'bear', 'big bear'], 'bear': ['a big bear', 'the big bear', 'the bear over there', 'a bear outside the house', 'bear over there', 'a bear', 'the bear', 'big bear'], 'big bear': ['a big bear', 'the big bear', 'the bear over there', 'a bear outside the house', 'bear over there', 'a bear', 'the bear', 'bear'], 'a dog': ['the dog', 'a small dog', 'the small dog', 'the dog outside the house', 'a dog outside the house', 'the dog over there', 'dog outside the house', 'dog', 'small dog'], 'the dog': ['a dog', 'a small dog', 'the small dog', 'the dog outside the house', 'a dog outside the house', 'the dog over there', 'dog outside the house', 'dog', 'small dog'], 'a small dog': ['a dog', 'the dog', 'the small dog', 'the dog outside the house', 'a dog outside the house', 'the dog over there', 'dog outside the house', 'dog', 'small dog'], 'the small dog': ['a dog', 'the dog', 'a small dog', 'the dog outside the house', 'a dog outside the house', 'the dog over there', 'dog outside the house', 'dog', 'small dog'], 'the dog outside the house': ['a dog', 'the dog', 'a small dog', 'the small dog', 'a dog outside the house', 'the dog over there', 'dog outside the house', 'dog', 'small dog'], 'a dog outside the house': ['a dog', 'the dog', 'a small dog', 'the small dog', 'the dog outside the house', 'the dog over there', 'dog outside the house', 'dog', 'small dog'], 'the dog over there': ['a dog', 'the dog', 'a small dog', 'the small dog', 'the dog outside the house', 'a dog outside the house', 'dog outside the house', 'dog', 'small dog'], 'dog outside the house': ['a dog', 'the dog', 'a small dog', 'the small dog', 'the dog outside the house', 'a dog outside the house', 'the dog over there', 'dog', 'small dog'], 'dog': ['a dog', 'the dog', 'a small dog', 'the small dog', 'the dog outside the house', 'a dog outside the house', 'the dog over there', 'dog outside the house', 'small dog'], 'small dog': ['a dog', 'the dog', 'a small dog', 'the small dog', 'the dog outside the house', 'a dog outside the house', 'the dog over there', 'dog outside the house', 'dog'], 'a cat': ['the cat', 'a cute cat', 'the cute cat', 'the cat outside the house', 'the cat over there', 'a cat outside the house', 'cat outside the house', 'cat', 'cute cat'], 'the cat': ['a cat', 'a cute cat', 'the cute cat', 'the cat outside the house', 'the cat over there', 'a cat outside the house', 'cat outside the house', 'cat', 'cute cat'], 'a cute cat': ['a cat', 'the cat', 'the cute cat', 'the cat outside the house', 'the cat over there', 'a cat outside the house', 'cat outside the house', 'cat', 'cute cat'], 'the cute cat': ['a cat', 'the cat', 'a cute cat', 'the cat outside the house', 'the cat over there', 'a cat outside the house', 'cat outside the house', 'cat', 'cute cat'], 'the cat outside the house': ['a cat', 'the cat', 'a cute cat', 'the cute cat', 'the cat over there', 'a cat outside the house', 'cat outside the house', 'cat', 'cute cat'], 'the cat over there': ['a cat', 'the cat', 'a cute cat', 'the cute cat', 'the cat outside the house', 'a cat outside the house', 'cat outside the house', 'cat', 'cute cat'], 'a cat outside the house': ['a cat', 'the cat', 'a cute cat', 'the cute cat', 'the cat outside the house', 'the cat over there', 'cat outside the house', 'cat', 'cute cat'], 'cat outside the house': ['a cat', 'the cat', 'a cute cat', 'the cute cat', 'the cat outside the house', 'the cat over there', 'a cat outside the house', 'cat', 'cute cat'], 'cat': ['a cat', 'the cat', 'a cute cat', 'the cute cat', 'the cat outside the house', 'the cat over there', 'a cat outside the house', 'cat outside the house', 'cute cat'], 'cute cat': ['a cat', 'the cat', 'a cute cat', 'the cute cat', 'the cat outside the house', 'the cat over there', 'a cat outside the house', 'cat outside the house', 'cat'], 'legos': ['a lego'], 'a lego': ['legos'], 'cheerios': ['some cheerios', 'the cheerios'], 'some cheerios': ['cheerios', 'the cheerios'], 'the cheerios': ['cheerios', 'some cheerios'], 'some milk': ['the milk'], 'the milk': ['some milk'], 'some food': ['the food', 'food on the table', 'the food on the table'], 'the food': ['some food', 'food on the table', 'the food on the table'], 'food on the table': ['some food', 'the food', 'the food on the table'], 'the food on the table': ['some food', 'the food', 'food on the table'], 'a toy': ['the toys', 'a toy in the room', 'the toys in the room', 'toys in the room'], 'the toys': ['a toy', 'a toy in the room', 'the toys in the room', 'toys in the room'], 'a toy in the room': ['a toy', 'the toys', 'the toys in the room', 'toys in the room'], 'the toys in the room': ['a toy', 'the toys', 'a toy in the room', 'toys in the room'], 'toys in the room': ['a toy', 'the toys', 'a toy in the room', 'the toys in the room']}\n"
     ]
    }
   ],
   "source": [
    "conflict_words = {}\n",
    "for word, conflicts in conflict_set.items():\n",
    "    for c in conflicts:\n",
    "        conflict_words[c] = list(conflicts - {c})\n",
    "    \n",
    "print(conflict_words)"
   ]
  },
  {
   "cell_type": "code",
   "execution_count": 10,
   "metadata": {},
   "outputs": [],
   "source": [
    "features = defaultdict(OrderedSet)\n",
    "\n",
    "for k,v in lexicon.items():\n",
    "    for word in v:\n",
    "        features[word].add(k)"
   ]
  },
  {
   "cell_type": "code",
   "execution_count": 11,
   "metadata": {},
   "outputs": [
    {
     "data": {
      "text/plain": [
       "OrderedSet(['inanimate', 'definite', 'theme', 'recipient', 'unmarked', 'short', 'nominal'])"
      ]
     },
     "execution_count": 11,
     "metadata": {},
     "output_type": "execute_result"
    }
   ],
   "source": [
    "features['teddy']"
   ]
  },
  {
   "cell_type": "code",
   "execution_count": 16,
   "metadata": {},
   "outputs": [
    {
     "data": {
      "text/plain": [
       "OrderedSet(['it', 'teddy'])"
      ]
     },
     "execution_count": 16,
     "metadata": {},
     "output_type": "execute_result"
    }
   ],
   "source": [
    "lexicon['inanimate'].intersection(lexicon['definite']).intersection(lexicon['recipient']).intersection(lexicon['short']).intersection(lexicon['unmarked'])"
   ]
  },
  {
   "cell_type": "code",
   "execution_count": null,
   "metadata": {},
   "outputs": [],
   "source": []
  }
 ],
 "metadata": {
  "kernelspec": {
   "display_name": "base",
   "language": "python",
   "name": "python3"
  },
  "language_info": {
   "codemirror_mode": {
    "name": "ipython",
    "version": 3
   },
   "file_extension": ".py",
   "mimetype": "text/x-python",
   "name": "python",
   "nbconvert_exporter": "python",
   "pygments_lexer": "ipython3",
   "version": "3.10.10"
  }
 },
 "nbformat": 4,
 "nbformat_minor": 2
}
