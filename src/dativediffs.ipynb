{
 "cells": [
  {
   "cell_type": "code",
   "execution_count": 5,
   "metadata": {},
   "outputs": [],
   "source": [
    "import utils\n",
    "from ordered_set import OrderedSet"
   ]
  },
  {
   "cell_type": "code",
   "execution_count": 6,
   "metadata": {},
   "outputs": [],
   "source": [
    "adaptation1 = utils.read_jsonl(\"../data/experiments/single_stimuli_dative_simulation_valtest_vbd_no_discourse/adaptation.jsonl\")\n",
    "\n",
    "adaptation2 = utils.read_jsonl(\"../data/experiments/single_stimuli_dative_simulation_valtest_vbd_no_discourse2/adaptation.jsonl\")"
   ]
  },
  {
   "cell_type": "code",
   "execution_count": 7,
   "metadata": {},
   "outputs": [],
   "source": [
    "acronyms1 = [utils.generate_acronym(a, full=True) for a in adaptation1]\n",
    "acronyms2 = [utils.generate_acronym(a, full=True) for a in adaptation2]"
   ]
  },
  {
   "cell_type": "code",
   "execution_count": 10,
   "metadata": {},
   "outputs": [],
   "source": [
    "diff = OrderedSet(acronyms2) - OrderedSet(acronyms1)"
   ]
  },
  {
   "cell_type": "code",
   "execution_count": 11,
   "metadata": {},
   "outputs": [
    {
     "data": {
      "text/plain": [
       "OrderedSet(['pasdupasiu', 'pasdupisdu', 'pasdupisiu', 'pasdunisiu', 'pasiupasdu', 'pasiunaldm', 'pasiunalim', 'pasiunasdm', 'pasiunasdu', 'pasiunasim', 'pasiunildm', 'pasiunilim', 'pasiunisdm', 'pasiunisdu', 'pasiunisim', 'pisdupasdu', 'pisdunaldm', 'pisdunalim', 'pisdunasdm', 'pisdunasdu', 'pisdunasim', 'pisdunildm', 'pisdunilim', 'pisdunisdm', 'pisdunisdu', 'pisdunisim', 'pisiupasdu', 'pisiunaldm', 'pisiunalim', 'pisiunasdm', 'pisiunasdu', 'pisiunasim', 'pisiunildm', 'pisiunilim', 'pisiunisdm', 'pisiunisdu', 'pisiunisim', 'naldmpasiu', 'naldmpisdu', 'naldmpisiu', 'naldmnisiu', 'nalimpasiu', 'nalimpisdu', 'nalimpisiu', 'nalimnisiu', 'naliupasiu', 'naliupisdu', 'naliupisiu', 'naliunisiu', 'nasdmpasiu', 'nasdmpisdu', 'nasdmpisiu', 'nasdmnisiu', 'nasdupasiu', 'nasdupisdu', 'nasdupisiu', 'nasdunisiu', 'nasimpasiu', 'nasimpisdu', 'nasimpisiu', 'nasimnisiu', 'nildmpasiu', 'nildmpisdu', 'nildmpisiu', 'nildmnisiu', 'nilimpasiu', 'nilimpisdu', 'nilimpisiu', 'nilimnisiu', 'nisdmpasiu', 'nisdmpisdu', 'nisdmpisiu', 'nisdmnisiu', 'nisdupasiu', 'nisdupisdu', 'nisdupisiu', 'nisdunisiu', 'nisimpasiu', 'nisimpisdu', 'nisimpisiu', 'nisimnisiu', 'nisiupasiu', 'nisiupisdu', 'nisiupisiu', 'nisiunisiu'])"
      ]
     },
     "execution_count": 11,
     "metadata": {},
     "output_type": "execute_result"
    }
   ],
   "source": [
    "diff"
   ]
  },
  {
   "cell_type": "code",
   "execution_count": null,
   "metadata": {},
   "outputs": [],
   "source": []
  }
 ],
 "metadata": {
  "kernelspec": {
   "display_name": "base",
   "language": "python",
   "name": "python3"
  },
  "language_info": {
   "codemirror_mode": {
    "name": "ipython",
    "version": 3
   },
   "file_extension": ".py",
   "mimetype": "text/x-python",
   "name": "python",
   "nbconvert_exporter": "python",
   "pygments_lexer": "ipython3",
   "version": "3.10.10"
  }
 },
 "nbformat": 4,
 "nbformat_minor": 2
}
