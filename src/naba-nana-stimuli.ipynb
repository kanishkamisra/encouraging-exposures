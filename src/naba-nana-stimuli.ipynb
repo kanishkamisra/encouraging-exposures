{
 "cells": [
  {
   "cell_type": "code",
   "execution_count": 38,
   "metadata": {},
   "outputs": [],
   "source": [
    "import csv\n",
    "import itertools\n",
    "import json\n",
    "import utils\n",
    "import random\n",
    "\n",
    "from collections import defaultdict"
   ]
  },
  {
   "cell_type": "code",
   "execution_count": 39,
   "metadata": {},
   "outputs": [],
   "source": [
    "with open(\"../data/nana-naba-verbs_nk_240407.json\", \"r\") as f:\n",
    "    data = json.load(f)\n",
    "\n",
    "# data\n",
    "# verbs = defaultdict(list)\n",
    "verbs = []\n",
    "for k, v in data.items():\n",
    "    for verb, items in v.items():\n",
    "        verbs.append(verb)\n",
    "\n",
    "themes = set()\n",
    "for k, v in data.items():\n",
    "    for verb, items in v.items():\n",
    "        for t in items['theme']:\n",
    "            themes.add(t)\n",
    "\n",
    "recipients = set()\n",
    "for k, v in data.items():\n",
    "    for verb, items in v.items():\n",
    "        for r in items['recipient']:\n",
    "            recipients.add(r)"
   ]
  },
  {
   "cell_type": "code",
   "execution_count": 40,
   "metadata": {},
   "outputs": [],
   "source": [
    "aochildes = utils.read_file(\"../../smolm/data/corpora/babylm_data/babylm_100M/aochildes.train\")\n",
    "\n",
    "verb_sents = defaultdict(list)\n",
    "for sent in aochildes:\n",
    "    for verb in verbs:\n",
    "        if verb in sent:\n",
    "            verb_sents[verb].append(sent)\n",
    "verb_sents = dict(verb_sents)"
   ]
  },
  {
   "cell_type": "code",
   "execution_count": 41,
   "metadata": {},
   "outputs": [],
   "source": [
    "AGENTS = [\"grandma\", \"ryan\", \"ethan\", \"john\", \"nina\", \"lily\", \"adam\", \"david\", \"you\", \"the boy\", \"he\", \"she\", \"i\", \"mommy\", \"daddy\", \"laura\"]\n",
    "\n",
    "# \"|\".join(AGENTS)\n",
    "verb_agents = defaultdict(list)\n",
    "for verb in verbs:\n",
    "    for a in AGENTS:\n",
    "        query = f\"{a} {verb}\"\n",
    "        found = False\n",
    "        try:\n",
    "            for sent in verb_sents[verb]:\n",
    "                if query in sent:\n",
    "                    found = True\n",
    "        except:\n",
    "            pass\n",
    "        if not found:\n",
    "            verb_agents[verb].append(a)\n",
    "verb_agents = dict(verb_agents)"
   ]
  },
  {
   "cell_type": "code",
   "execution_count": 42,
   "metadata": {},
   "outputs": [],
   "source": [
    "random.seed(42)\n",
    "\n",
    "naba_nana = []\n",
    "verb_id = 1\n",
    "item_id = 1\n",
    "for k, v in data.items():\n",
    "    for verb, items in v.items():\n",
    "        # verbs.append(verb)\n",
    "        for theme, recipient in itertools.product(items[\"theme\"], items[\"recipient\"]):\n",
    "            agent_space = [\n",
    "                a for a in verb_agents[verb] if a != theme and a != recipient\n",
    "            ]\n",
    "            agent = random.choice(agent_space)\n",
    "            do = f\"{agent} {verb} {recipient} {theme} .\"\n",
    "            pp = f\"{agent} {verb} {theme} to {recipient} .\"\n",
    "            naba_nana.append([item_id, verb_id, k, verb, do, pp])\n",
    "            item_id += 1\n",
    "        verb_id += 1"
   ]
  },
  {
   "cell_type": "code",
   "execution_count": 44,
   "metadata": {},
   "outputs": [],
   "source": [
    "# write to csv\n",
    "with open(\"../data/naba-nana-sentences.csv\", \"w\") as f:\n",
    "    writer = csv.writer(f)\n",
    "    writer.writerow([\"item_id\", \"verb_id\", \"verb_type\", \"verb\", \"do\", \"pp\"])\n",
    "    for row in naba_nana:\n",
    "        writer.writerow(row)"
   ]
  },
  {
   "cell_type": "code",
   "execution_count": null,
   "metadata": {},
   "outputs": [],
   "source": []
  }
 ],
 "metadata": {
  "kernelspec": {
   "display_name": "base",
   "language": "python",
   "name": "python3"
  },
  "language_info": {
   "codemirror_mode": {
    "name": "ipython",
    "version": 3
   },
   "file_extension": ".py",
   "mimetype": "text/x-python",
   "name": "python",
   "nbconvert_exporter": "python",
   "pygments_lexer": "ipython3",
   "version": "3.10.10"
  }
 },
 "nbformat": 4,
 "nbformat_minor": 2
}
